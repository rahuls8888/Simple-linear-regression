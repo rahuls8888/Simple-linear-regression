{
  "cells": [
    {
      "cell_type": "code",
      "execution_count": 110,
      "metadata": {
        "id": "mOvs8G7KFpKj"
      },
      "outputs": [],
      "source": [
        "import pandas as pd\n",
        "import numpy as np\n",
        "import matplotlib.pyplot as plt\n",
        "import seaborn as sns\n",
        "from sklearn.linear_model import LinearRegression\n",
        "import statsmodels.formula.api as smf"
      ]
    },
    {
      "cell_type": "code",
      "execution_count": 111,
      "metadata": {
        "colab": {
          "base_uri": "https://localhost:8080/",
          "height": 708
        },
        "id": "kuvxgMFBR9iN",
        "outputId": "b1ea62b1-7914-4f0b-bf6a-9d7767907050"
      },
      "outputs": [
        {
          "output_type": "execute_result",
          "data": {
            "text/plain": [
              "    Delivery Time  Sorting Time\n",
              "0           21.00            10\n",
              "1           13.50             4\n",
              "2           19.75             6\n",
              "3           24.00             9\n",
              "4           29.00            10\n",
              "5           15.35             6\n",
              "6           19.00             7\n",
              "7            9.50             3\n",
              "8           17.90            10\n",
              "9           18.75             9\n",
              "10          19.83             8\n",
              "11          10.75             4\n",
              "12          16.68             7\n",
              "13          11.50             3\n",
              "14          12.03             3\n",
              "15          14.88             4\n",
              "16          13.75             6\n",
              "17          18.11             7\n",
              "18           8.00             2\n",
              "19          17.83             7\n",
              "20          21.50             5"
            ],
            "text/html": [
              "\n",
              "  <div id=\"df-a10f46b8-4f66-450e-98f2-ea57d934b622\" class=\"colab-df-container\">\n",
              "    <div>\n",
              "<style scoped>\n",
              "    .dataframe tbody tr th:only-of-type {\n",
              "        vertical-align: middle;\n",
              "    }\n",
              "\n",
              "    .dataframe tbody tr th {\n",
              "        vertical-align: top;\n",
              "    }\n",
              "\n",
              "    .dataframe thead th {\n",
              "        text-align: right;\n",
              "    }\n",
              "</style>\n",
              "<table border=\"1\" class=\"dataframe\">\n",
              "  <thead>\n",
              "    <tr style=\"text-align: right;\">\n",
              "      <th></th>\n",
              "      <th>Delivery Time</th>\n",
              "      <th>Sorting Time</th>\n",
              "    </tr>\n",
              "  </thead>\n",
              "  <tbody>\n",
              "    <tr>\n",
              "      <th>0</th>\n",
              "      <td>21.00</td>\n",
              "      <td>10</td>\n",
              "    </tr>\n",
              "    <tr>\n",
              "      <th>1</th>\n",
              "      <td>13.50</td>\n",
              "      <td>4</td>\n",
              "    </tr>\n",
              "    <tr>\n",
              "      <th>2</th>\n",
              "      <td>19.75</td>\n",
              "      <td>6</td>\n",
              "    </tr>\n",
              "    <tr>\n",
              "      <th>3</th>\n",
              "      <td>24.00</td>\n",
              "      <td>9</td>\n",
              "    </tr>\n",
              "    <tr>\n",
              "      <th>4</th>\n",
              "      <td>29.00</td>\n",
              "      <td>10</td>\n",
              "    </tr>\n",
              "    <tr>\n",
              "      <th>5</th>\n",
              "      <td>15.35</td>\n",
              "      <td>6</td>\n",
              "    </tr>\n",
              "    <tr>\n",
              "      <th>6</th>\n",
              "      <td>19.00</td>\n",
              "      <td>7</td>\n",
              "    </tr>\n",
              "    <tr>\n",
              "      <th>7</th>\n",
              "      <td>9.50</td>\n",
              "      <td>3</td>\n",
              "    </tr>\n",
              "    <tr>\n",
              "      <th>8</th>\n",
              "      <td>17.90</td>\n",
              "      <td>10</td>\n",
              "    </tr>\n",
              "    <tr>\n",
              "      <th>9</th>\n",
              "      <td>18.75</td>\n",
              "      <td>9</td>\n",
              "    </tr>\n",
              "    <tr>\n",
              "      <th>10</th>\n",
              "      <td>19.83</td>\n",
              "      <td>8</td>\n",
              "    </tr>\n",
              "    <tr>\n",
              "      <th>11</th>\n",
              "      <td>10.75</td>\n",
              "      <td>4</td>\n",
              "    </tr>\n",
              "    <tr>\n",
              "      <th>12</th>\n",
              "      <td>16.68</td>\n",
              "      <td>7</td>\n",
              "    </tr>\n",
              "    <tr>\n",
              "      <th>13</th>\n",
              "      <td>11.50</td>\n",
              "      <td>3</td>\n",
              "    </tr>\n",
              "    <tr>\n",
              "      <th>14</th>\n",
              "      <td>12.03</td>\n",
              "      <td>3</td>\n",
              "    </tr>\n",
              "    <tr>\n",
              "      <th>15</th>\n",
              "      <td>14.88</td>\n",
              "      <td>4</td>\n",
              "    </tr>\n",
              "    <tr>\n",
              "      <th>16</th>\n",
              "      <td>13.75</td>\n",
              "      <td>6</td>\n",
              "    </tr>\n",
              "    <tr>\n",
              "      <th>17</th>\n",
              "      <td>18.11</td>\n",
              "      <td>7</td>\n",
              "    </tr>\n",
              "    <tr>\n",
              "      <th>18</th>\n",
              "      <td>8.00</td>\n",
              "      <td>2</td>\n",
              "    </tr>\n",
              "    <tr>\n",
              "      <th>19</th>\n",
              "      <td>17.83</td>\n",
              "      <td>7</td>\n",
              "    </tr>\n",
              "    <tr>\n",
              "      <th>20</th>\n",
              "      <td>21.50</td>\n",
              "      <td>5</td>\n",
              "    </tr>\n",
              "  </tbody>\n",
              "</table>\n",
              "</div>\n",
              "    <div class=\"colab-df-buttons\">\n",
              "\n",
              "  <div class=\"colab-df-container\">\n",
              "    <button class=\"colab-df-convert\" onclick=\"convertToInteractive('df-a10f46b8-4f66-450e-98f2-ea57d934b622')\"\n",
              "            title=\"Convert this dataframe to an interactive table.\"\n",
              "            style=\"display:none;\">\n",
              "\n",
              "  <svg xmlns=\"http://www.w3.org/2000/svg\" height=\"24px\" viewBox=\"0 -960 960 960\">\n",
              "    <path d=\"M120-120v-720h720v720H120Zm60-500h600v-160H180v160Zm220 220h160v-160H400v160Zm0 220h160v-160H400v160ZM180-400h160v-160H180v160Zm440 0h160v-160H620v160ZM180-180h160v-160H180v160Zm440 0h160v-160H620v160Z\"/>\n",
              "  </svg>\n",
              "    </button>\n",
              "\n",
              "  <style>\n",
              "    .colab-df-container {\n",
              "      display:flex;\n",
              "      gap: 12px;\n",
              "    }\n",
              "\n",
              "    .colab-df-convert {\n",
              "      background-color: #E8F0FE;\n",
              "      border: none;\n",
              "      border-radius: 50%;\n",
              "      cursor: pointer;\n",
              "      display: none;\n",
              "      fill: #1967D2;\n",
              "      height: 32px;\n",
              "      padding: 0 0 0 0;\n",
              "      width: 32px;\n",
              "    }\n",
              "\n",
              "    .colab-df-convert:hover {\n",
              "      background-color: #E2EBFA;\n",
              "      box-shadow: 0px 1px 2px rgba(60, 64, 67, 0.3), 0px 1px 3px 1px rgba(60, 64, 67, 0.15);\n",
              "      fill: #174EA6;\n",
              "    }\n",
              "\n",
              "    .colab-df-buttons div {\n",
              "      margin-bottom: 4px;\n",
              "    }\n",
              "\n",
              "    [theme=dark] .colab-df-convert {\n",
              "      background-color: #3B4455;\n",
              "      fill: #D2E3FC;\n",
              "    }\n",
              "\n",
              "    [theme=dark] .colab-df-convert:hover {\n",
              "      background-color: #434B5C;\n",
              "      box-shadow: 0px 1px 3px 1px rgba(0, 0, 0, 0.15);\n",
              "      filter: drop-shadow(0px 1px 2px rgba(0, 0, 0, 0.3));\n",
              "      fill: #FFFFFF;\n",
              "    }\n",
              "  </style>\n",
              "\n",
              "    <script>\n",
              "      const buttonEl =\n",
              "        document.querySelector('#df-a10f46b8-4f66-450e-98f2-ea57d934b622 button.colab-df-convert');\n",
              "      buttonEl.style.display =\n",
              "        google.colab.kernel.accessAllowed ? 'block' : 'none';\n",
              "\n",
              "      async function convertToInteractive(key) {\n",
              "        const element = document.querySelector('#df-a10f46b8-4f66-450e-98f2-ea57d934b622');\n",
              "        const dataTable =\n",
              "          await google.colab.kernel.invokeFunction('convertToInteractive',\n",
              "                                                    [key], {});\n",
              "        if (!dataTable) return;\n",
              "\n",
              "        const docLinkHtml = 'Like what you see? Visit the ' +\n",
              "          '<a target=\"_blank\" href=https://colab.research.google.com/notebooks/data_table.ipynb>data table notebook</a>'\n",
              "          + ' to learn more about interactive tables.';\n",
              "        element.innerHTML = '';\n",
              "        dataTable['output_type'] = 'display_data';\n",
              "        await google.colab.output.renderOutput(dataTable, element);\n",
              "        const docLink = document.createElement('div');\n",
              "        docLink.innerHTML = docLinkHtml;\n",
              "        element.appendChild(docLink);\n",
              "      }\n",
              "    </script>\n",
              "  </div>\n",
              "\n",
              "\n",
              "<div id=\"df-cec6e628-40b3-44b4-87e4-b3c4e85cd20f\">\n",
              "  <button class=\"colab-df-quickchart\" onclick=\"quickchart('df-cec6e628-40b3-44b4-87e4-b3c4e85cd20f')\"\n",
              "            title=\"Suggest charts.\"\n",
              "            style=\"display:none;\">\n",
              "\n",
              "<svg xmlns=\"http://www.w3.org/2000/svg\" height=\"24px\"viewBox=\"0 0 24 24\"\n",
              "     width=\"24px\">\n",
              "    <g>\n",
              "        <path d=\"M19 3H5c-1.1 0-2 .9-2 2v14c0 1.1.9 2 2 2h14c1.1 0 2-.9 2-2V5c0-1.1-.9-2-2-2zM9 17H7v-7h2v7zm4 0h-2V7h2v10zm4 0h-2v-4h2v4z\"/>\n",
              "    </g>\n",
              "</svg>\n",
              "  </button>\n",
              "\n",
              "<style>\n",
              "  .colab-df-quickchart {\n",
              "      --bg-color: #E8F0FE;\n",
              "      --fill-color: #1967D2;\n",
              "      --hover-bg-color: #E2EBFA;\n",
              "      --hover-fill-color: #174EA6;\n",
              "      --disabled-fill-color: #AAA;\n",
              "      --disabled-bg-color: #DDD;\n",
              "  }\n",
              "\n",
              "  [theme=dark] .colab-df-quickchart {\n",
              "      --bg-color: #3B4455;\n",
              "      --fill-color: #D2E3FC;\n",
              "      --hover-bg-color: #434B5C;\n",
              "      --hover-fill-color: #FFFFFF;\n",
              "      --disabled-bg-color: #3B4455;\n",
              "      --disabled-fill-color: #666;\n",
              "  }\n",
              "\n",
              "  .colab-df-quickchart {\n",
              "    background-color: var(--bg-color);\n",
              "    border: none;\n",
              "    border-radius: 50%;\n",
              "    cursor: pointer;\n",
              "    display: none;\n",
              "    fill: var(--fill-color);\n",
              "    height: 32px;\n",
              "    padding: 0;\n",
              "    width: 32px;\n",
              "  }\n",
              "\n",
              "  .colab-df-quickchart:hover {\n",
              "    background-color: var(--hover-bg-color);\n",
              "    box-shadow: 0 1px 2px rgba(60, 64, 67, 0.3), 0 1px 3px 1px rgba(60, 64, 67, 0.15);\n",
              "    fill: var(--button-hover-fill-color);\n",
              "  }\n",
              "\n",
              "  .colab-df-quickchart-complete:disabled,\n",
              "  .colab-df-quickchart-complete:disabled:hover {\n",
              "    background-color: var(--disabled-bg-color);\n",
              "    fill: var(--disabled-fill-color);\n",
              "    box-shadow: none;\n",
              "  }\n",
              "\n",
              "  .colab-df-spinner {\n",
              "    border: 2px solid var(--fill-color);\n",
              "    border-color: transparent;\n",
              "    border-bottom-color: var(--fill-color);\n",
              "    animation:\n",
              "      spin 1s steps(1) infinite;\n",
              "  }\n",
              "\n",
              "  @keyframes spin {\n",
              "    0% {\n",
              "      border-color: transparent;\n",
              "      border-bottom-color: var(--fill-color);\n",
              "      border-left-color: var(--fill-color);\n",
              "    }\n",
              "    20% {\n",
              "      border-color: transparent;\n",
              "      border-left-color: var(--fill-color);\n",
              "      border-top-color: var(--fill-color);\n",
              "    }\n",
              "    30% {\n",
              "      border-color: transparent;\n",
              "      border-left-color: var(--fill-color);\n",
              "      border-top-color: var(--fill-color);\n",
              "      border-right-color: var(--fill-color);\n",
              "    }\n",
              "    40% {\n",
              "      border-color: transparent;\n",
              "      border-right-color: var(--fill-color);\n",
              "      border-top-color: var(--fill-color);\n",
              "    }\n",
              "    60% {\n",
              "      border-color: transparent;\n",
              "      border-right-color: var(--fill-color);\n",
              "    }\n",
              "    80% {\n",
              "      border-color: transparent;\n",
              "      border-right-color: var(--fill-color);\n",
              "      border-bottom-color: var(--fill-color);\n",
              "    }\n",
              "    90% {\n",
              "      border-color: transparent;\n",
              "      border-bottom-color: var(--fill-color);\n",
              "    }\n",
              "  }\n",
              "</style>\n",
              "\n",
              "  <script>\n",
              "    async function quickchart(key) {\n",
              "      const quickchartButtonEl =\n",
              "        document.querySelector('#' + key + ' button');\n",
              "      quickchartButtonEl.disabled = true;  // To prevent multiple clicks.\n",
              "      quickchartButtonEl.classList.add('colab-df-spinner');\n",
              "      try {\n",
              "        const charts = await google.colab.kernel.invokeFunction(\n",
              "            'suggestCharts', [key], {});\n",
              "      } catch (error) {\n",
              "        console.error('Error during call to suggestCharts:', error);\n",
              "      }\n",
              "      quickchartButtonEl.classList.remove('colab-df-spinner');\n",
              "      quickchartButtonEl.classList.add('colab-df-quickchart-complete');\n",
              "    }\n",
              "    (() => {\n",
              "      let quickchartButtonEl =\n",
              "        document.querySelector('#df-cec6e628-40b3-44b4-87e4-b3c4e85cd20f button');\n",
              "      quickchartButtonEl.style.display =\n",
              "        google.colab.kernel.accessAllowed ? 'block' : 'none';\n",
              "    })();\n",
              "  </script>\n",
              "</div>\n",
              "    </div>\n",
              "  </div>\n"
            ]
          },
          "metadata": {},
          "execution_count": 111
        }
      ],
      "source": [
        "df=pd.read_csv(\"delivery_time.csv\")\n",
        "df"
      ]
    },
    {
      "cell_type": "code",
      "execution_count": 112,
      "metadata": {
        "colab": {
          "base_uri": "https://localhost:8080/"
        },
        "id": "C8RGW-58TWkA",
        "outputId": "e2cfa68b-5d51-42fa-bbed-2867c1138575"
      },
      "outputs": [
        {
          "output_type": "execute_result",
          "data": {
            "text/plain": [
              "<bound method DataFrame.info of     Delivery Time  Sorting Time\n",
              "0           21.00            10\n",
              "1           13.50             4\n",
              "2           19.75             6\n",
              "3           24.00             9\n",
              "4           29.00            10\n",
              "5           15.35             6\n",
              "6           19.00             7\n",
              "7            9.50             3\n",
              "8           17.90            10\n",
              "9           18.75             9\n",
              "10          19.83             8\n",
              "11          10.75             4\n",
              "12          16.68             7\n",
              "13          11.50             3\n",
              "14          12.03             3\n",
              "15          14.88             4\n",
              "16          13.75             6\n",
              "17          18.11             7\n",
              "18           8.00             2\n",
              "19          17.83             7\n",
              "20          21.50             5>"
            ]
          },
          "metadata": {},
          "execution_count": 112
        }
      ],
      "source": [
        "df.info"
      ]
    },
    {
      "cell_type": "code",
      "execution_count": 113,
      "metadata": {
        "id": "lLg5ufjC1wyh"
      },
      "outputs": [],
      "source": [
        "import statsmodels.formula.api as smf"
      ]
    },
    {
      "cell_type": "code",
      "execution_count": 113,
      "metadata": {
        "id": "iRSgnm8j3AQi"
      },
      "outputs": [],
      "source": []
    },
    {
      "cell_type": "code",
      "execution_count": 113,
      "metadata": {
        "id": "o0EsWYxP3AT4"
      },
      "outputs": [],
      "source": []
    },
    {
      "cell_type": "code",
      "execution_count": 113,
      "metadata": {
        "id": "4qBpr_OV3Ab6"
      },
      "outputs": [],
      "source": []
    },
    {
      "cell_type": "code",
      "execution_count": 114,
      "metadata": {
        "colab": {
          "base_uri": "https://localhost:8080/"
        },
        "id": "SF6AhOOcUixQ",
        "outputId": "5e0a6e62-2b94-49b1-8b99-c811301e7d85"
      },
      "outputs": [
        {
          "output_type": "execute_result",
          "data": {
            "text/plain": [
              "(0     21.00\n",
              " 1     13.50\n",
              " 2     19.75\n",
              " 3     24.00\n",
              " 4     29.00\n",
              " 5     15.35\n",
              " 6     19.00\n",
              " 7      9.50\n",
              " 8     17.90\n",
              " 9     18.75\n",
              " 10    19.83\n",
              " 11    10.75\n",
              " 12    16.68\n",
              " 13    11.50\n",
              " 14    12.03\n",
              " 15    14.88\n",
              " 16    13.75\n",
              " 17    18.11\n",
              " 18     8.00\n",
              " 19    17.83\n",
              " 20    21.50\n",
              " Name: Delivery Time, dtype: float64,\n",
              " 0     10\n",
              " 1      4\n",
              " 2      6\n",
              " 3      9\n",
              " 4     10\n",
              " 5      6\n",
              " 6      7\n",
              " 7      3\n",
              " 8     10\n",
              " 9      9\n",
              " 10     8\n",
              " 11     4\n",
              " 12     7\n",
              " 13     3\n",
              " 14     3\n",
              " 15     4\n",
              " 16     6\n",
              " 17     7\n",
              " 18     2\n",
              " 19     7\n",
              " 20     5\n",
              " Name: Sorting Time, dtype: int64)"
            ]
          },
          "metadata": {},
          "execution_count": 114
        }
      ],
      "source": [
        "delivery=df['Delivery Time']\n",
        "sort=df['Sorting Time']\n",
        "delivery,sort"
      ]
    },
    {
      "cell_type": "code",
      "execution_count": 115,
      "metadata": {
        "colab": {
          "base_uri": "https://localhost:8080/",
          "height": 487
        },
        "id": "17tugcVcTWa1",
        "outputId": "ea293197-d989-4ec3-adb0-f4f9e845ede8"
      },
      "outputs": [
        {
          "output_type": "execute_result",
          "data": {
            "text/plain": [
              "array([[<Axes: title={'center': 'Delivery Time'}>,\n",
              "        <Axes: title={'center': 'Sorting Time'}>]], dtype=object)"
            ]
          },
          "metadata": {},
          "execution_count": 115
        },
        {
          "output_type": "display_data",
          "data": {
            "text/plain": [
              "<Figure size 640x480 with 2 Axes>"
            ],
            "image/png": "[encoded data removed]"
          },
          "metadata": {}
        }
      ],
      "source": [
        "df.hist()"
      ]
    },
    {
      "cell_type": "code",
      "execution_count": 116,
      "metadata": {
        "colab": {
          "base_uri": "https://localhost:8080/",
          "height": 449
        },
        "id": "9BzxBuFUTWXe",
        "outputId": "4494184a-c13a-4810-a825-d7b4bc063837"
      },
      "outputs": [
        {
          "output_type": "display_data",
          "data": {
            "text/plain": [
              "<Figure size 640x480 with 1 Axes>"
            ],
            "image/png": "[encoded data removed]"
          },
          "metadata": {}
        }
      ],
      "source": [
        "sns.scatterplot(x=delivery,y=sort,data=df)\n",
        "plt.show()"
      ]
    },
    {
      "cell_type": "code",
      "execution_count": 117,
      "metadata": {
        "colab": {
          "base_uri": "https://localhost:8080/",
          "height": 74
        },
        "id": "38VXhBz-XjiN",
        "outputId": "b546040a-b0ae-4560-d1fc-10542f521ec8"
      },
      "outputs": [
        {
          "output_type": "execute_result",
          "data": {
            "text/plain": [
              "LinearRegression()"
            ],
            "text/html": [
              "<style>#sk-container-id-5 {color: black;background-color: white;}#sk-container-id-5 pre{padding: 0;}#sk-container-id-5 div.sk-toggleable {background-color: white;}#sk-container-id-5 label.sk-toggleable__label {cursor: pointer;display: block;width: 100%;margin-bottom: 0;padding: 0.3em;box-sizing: border-box;text-align: center;}#sk-container-id-5 label.sk-toggleable__label-arrow:before {content: \"▸\";float: left;margin-right: 0.25em;color: #696969;}#sk-container-id-5 label.sk-toggleable__label-arrow:hover:before {color: black;}#sk-container-id-5 div.sk-estimator:hover label.sk-toggleable__label-arrow:before {color: black;}#sk-container-id-5 div.sk-toggleable__content {max-height: 0;max-width: 0;overflow: hidden;text-align: left;background-color: #f0f8ff;}#sk-container-id-5 div.sk-toggleable__content pre {margin: 0.2em;color: black;border-radius: 0.25em;background-color: #f0f8ff;}#sk-container-id-5 input.sk-toggleable__control:checked~div.sk-toggleable__content {max-height: 200px;max-width: 100%;overflow: auto;}#sk-container-id-5 input.sk-toggleable__control:checked~label.sk-toggleable__label-arrow:before {content: \"▾\";}#sk-container-id-5 div.sk-estimator input.sk-toggleable__control:checked~label.sk-toggleable__label {background-color: #d4ebff;}#sk-container-id-5 div.sk-label input.sk-toggleable__control:checked~label.sk-toggleable__label {background-color: #d4ebff;}#sk-container-id-5 input.sk-hidden--visually {border: 0;clip: rect(1px 1px 1px 1px);clip: rect(1px, 1px, 1px, 1px);height: 1px;margin: -1px;overflow: hidden;padding: 0;position: absolute;width: 1px;}#sk-container-id-5 div.sk-estimator {font-family: monospace;background-color: #f0f8ff;border: 1px dotted black;border-radius: 0.25em;box-sizing: border-box;margin-bottom: 0.5em;}#sk-container-id-5 div.sk-estimator:hover {background-color: #d4ebff;}#sk-container-id-5 div.sk-parallel-item::after {content: \"\";width: 100%;border-bottom: 1px solid gray;flex-grow: 1;}#sk-container-id-5 div.sk-label:hover label.sk-toggleable__label {background-color: #d4ebff;}#sk-container-id-5 div.sk-serial::before {content: \"\";position: absolute;border-left: 1px solid gray;box-sizing: border-box;top: 0;bottom: 0;left: 50%;z-index: 0;}#sk-container-id-5 div.sk-serial {display: flex;flex-direction: column;align-items: center;background-color: white;padding-right: 0.2em;padding-left: 0.2em;position: relative;}#sk-container-id-5 div.sk-item {position: relative;z-index: 1;}#sk-container-id-5 div.sk-parallel {display: flex;align-items: stretch;justify-content: center;background-color: white;position: relative;}#sk-container-id-5 div.sk-item::before, #sk-container-id-5 div.sk-parallel-item::before {content: \"\";position: absolute;border-left: 1px solid gray;box-sizing: border-box;top: 0;bottom: 0;left: 50%;z-index: -1;}#sk-container-id-5 div.sk-parallel-item {display: flex;flex-direction: column;z-index: 1;position: relative;background-color: white;}#sk-container-id-5 div.sk-parallel-item:first-child::after {align-self: flex-end;width: 50%;}#sk-container-id-5 div.sk-parallel-item:last-child::after {align-self: flex-start;width: 50%;}#sk-container-id-5 div.sk-parallel-item:only-child::after {width: 0;}#sk-container-id-5 div.sk-dashed-wrapped {border: 1px dashed gray;margin: 0 0.4em 0.5em 0.4em;box-sizing: border-box;padding-bottom: 0.4em;background-color: white;}#sk-container-id-5 div.sk-label label {font-family: monospace;font-weight: bold;display: inline-block;line-height: 1.2em;}#sk-container-id-5 div.sk-label-container {text-align: center;}#sk-container-id-5 div.sk-container {/* jupyter's `normalize.less` sets `[hidden] { display: none; }` but bootstrap.min.css set `[hidden] { display: none !important; }` so we also need the `!important` here to be able to override the default hidden behavior on the sphinx rendered scikit-learn.org. See: https://github.com/scikit-learn/scikit-learn/issues/21755 */display: inline-block !important;position: relative;}#sk-container-id-5 div.sk-text-repr-fallback {display: none;}</style><div id=\"sk-container-id-5\" class=\"sk-top-container\"><div class=\"sk-text-repr-fallback\"><pre>LinearRegression()</pre><b>In a Jupyter environment, please rerun this cell to show the HTML representation or trust the notebook. <br />On GitHub, the HTML representation is unable to render, please try loading this page with nbviewer.org.</b></div><div class=\"sk-container\" hidden><div class=\"sk-item\"><div class=\"sk-estimator sk-toggleable\"><input class=\"sk-toggleable__control sk-hidden--visually\" id=\"sk-estimator-id-5\" type=\"checkbox\" checked><label for=\"sk-estimator-id-5\" class=\"sk-toggleable__label sk-toggleable__label-arrow\">LinearRegression</label><div class=\"sk-toggleable__content\"><pre>LinearRegression()</pre></div></div></div></div></div>"
            ]
          },
          "metadata": {},
          "execution_count": 117
        }
      ],
      "source": [
        "model = LinearRegression()\n",
        "X = df[['Delivery Time']]  # Independent variable\n",
        "y = sort    # Dependent variable\n",
        "model.fit(X, y)\n"
      ]
    },
    {
      "cell_type": "code",
      "execution_count": 118,
      "metadata": {
        "colab": {
          "base_uri": "https://localhost:8080/",
          "height": 472
        },
        "id": "oup6X2ace_WD",
        "outputId": "a693b92c-1d3e-4f2a-b7f0-91746e17f500"
      },
      "outputs": [
        {
          "output_type": "display_data",
          "data": {
            "text/plain": [
              "<Figure size 640x480 with 1 Axes>"
            ],
            "image/png": "[encoded data removed]"
          },
          "metadata": {}
        }
      ],
      "source": [
        "plt.scatter(X, y, color='blue')\n",
        "plt.plot(X, model.predict(X), color='red', linewidth=2)\n",
        "plt.xlabel('Delivery Time')\n",
        "plt.ylabel('Sorting Time')\n",
        "plt.title('Linear Regression')\n",
        "plt.show()\n"
      ]
    },
    {
      "cell_type": "code",
      "source": [
        "df.rename(columns={\"Delivery Time\": \"Delivery_Time\"}, inplace=True)\n",
        "df.rename(columns={\"Sorting Time\": \"Sorting_Time\"}, inplace=True)\n",
        "# Create the linear regression model\n",
        "model = smf.ols(\"Sorting_Time~Delivery_Time\", data=df).fit()\n"
      ],
      "metadata": {
        "id": "nrTZnzk-DDro"
      },
      "execution_count": 119,
      "outputs": []
    },
    {
      "cell_type": "code",
      "source": [
        "model.summary()"
      ],
      "metadata": {
        "colab": {
          "base_uri": "https://localhost:8080/",
          "height": 444
        },
        "id": "sENuQqdS5fhb",
        "outputId": "65ae7e11-b704-4589-e46b-2589482d46c4"
      },
      "execution_count": 120,
      "outputs": [
        {
          "output_type": "execute_result",
          "data": {
            "text/plain": [
              "<class 'statsmodels.iolib.summary.Summary'>\n",
              "\"\"\"\n",
              "                            OLS Regression Results                            \n",
              "==============================================================================\n",
              "Dep. Variable:           Sorting_Time   R-squared:                       0.682\n",
              "Model:                            OLS   Adj. R-squared:                  0.666\n",
              "Method:                 Least Squares   F-statistic:                     40.80\n",
              "Date:                Thu, 12 Oct 2023   Prob (F-statistic):           3.98e-06\n",
              "Time:                        18:22:37   Log-Likelihood:                -36.839\n",
              "No. Observations:                  21   AIC:                             77.68\n",
              "Df Residuals:                      19   BIC:                             79.77\n",
              "Df Model:                           1                                         \n",
              "Covariance Type:            nonrobust                                         \n",
              "=================================================================================\n",
              "                    coef    std err          t      P>|t|      [0.025      0.975]\n",
              "---------------------------------------------------------------------------------\n",
              "Intercept        -0.7567      1.134     -0.667      0.513      -3.130       1.617\n",
              "Delivery_Time     0.4137      0.065      6.387      0.000       0.278       0.549\n",
              "==============================================================================\n",
              "Omnibus:                        1.409   Durbin-Watson:                   1.346\n",
              "Prob(Omnibus):                  0.494   Jarque-Bera (JB):                0.371\n",
              "Skew:                           0.255   Prob(JB):                        0.831\n",
              "Kurtosis:                       3.405   Cond. No.                         62.1\n",
              "==============================================================================\n",
              "\n",
              "Notes:\n",
              "[1] Standard Errors assume that the covariance matrix of the errors is correctly specified.\n",
              "\"\"\""
            ],
            "text/html": [
              "<table class=\"simpletable\">\n",
              "<caption>OLS Regression Results</caption>\n",
              "<tr>\n",
              "  <th>Dep. Variable:</th>      <td>Sorting_Time</td>   <th>  R-squared:         </th> <td>   0.682</td>\n",
              "</tr>\n",
              "<tr>\n",
              "  <th>Model:</th>                   <td>OLS</td>       <th>  Adj. R-squared:    </th> <td>   0.666</td>\n",
              "</tr>\n",
              "<tr>\n",
              "  <th>Method:</th>             <td>Least Squares</td>  <th>  F-statistic:       </th> <td>   40.80</td>\n",
              "</tr>\n",
              "<tr>\n",
              "  <th>Date:</th>             <td>Thu, 12 Oct 2023</td> <th>  Prob (F-statistic):</th> <td>3.98e-06</td>\n",
              "</tr>\n",
              "<tr>\n",
              "  <th>Time:</th>                 <td>18:22:37</td>     <th>  Log-Likelihood:    </th> <td> -36.839</td>\n",
              "</tr>\n",
              "<tr>\n",
              "  <th>No. Observations:</th>      <td>    21</td>      <th>  AIC:               </th> <td>   77.68</td>\n",
              "</tr>\n",
              "<tr>\n",
              "  <th>Df Residuals:</th>          <td>    19</td>      <th>  BIC:               </th> <td>   79.77</td>\n",
              "</tr>\n",
              "<tr>\n",
              "  <th>Df Model:</th>              <td>     1</td>      <th>                     </th>     <td> </td>   \n",
              "</tr>\n",
              "<tr>\n",
              "  <th>Covariance Type:</th>      <td>nonrobust</td>    <th>                     </th>     <td> </td>   \n",
              "</tr>\n",
              "</table>\n",
              "<table class=\"simpletable\">\n",
              "<tr>\n",
              "        <td></td>           <th>coef</th>     <th>std err</th>      <th>t</th>      <th>P>|t|</th>  <th>[0.025</th>    <th>0.975]</th>  \n",
              "</tr>\n",
              "<tr>\n",
              "  <th>Intercept</th>     <td>   -0.7567</td> <td>    1.134</td> <td>   -0.667</td> <td> 0.513</td> <td>   -3.130</td> <td>    1.617</td>\n",
              "</tr>\n",
              "<tr>\n",
              "  <th>Delivery_Time</th> <td>    0.4137</td> <td>    0.065</td> <td>    6.387</td> <td> 0.000</td> <td>    0.278</td> <td>    0.549</td>\n",
              "</tr>\n",
              "</table>\n",
              "<table class=\"simpletable\">\n",
              "<tr>\n",
              "  <th>Omnibus:</th>       <td> 1.409</td> <th>  Durbin-Watson:     </th> <td>   1.346</td>\n",
              "</tr>\n",
              "<tr>\n",
              "  <th>Prob(Omnibus):</th> <td> 0.494</td> <th>  Jarque-Bera (JB):  </th> <td>   0.371</td>\n",
              "</tr>\n",
              "<tr>\n",
              "  <th>Skew:</th>          <td> 0.255</td> <th>  Prob(JB):          </th> <td>   0.831</td>\n",
              "</tr>\n",
              "<tr>\n",
              "  <th>Kurtosis:</th>      <td> 3.405</td> <th>  Cond. No.          </th> <td>    62.1</td>\n",
              "</tr>\n",
              "</table><br/><br/>Notes:<br/>[1] Standard Errors assume that the covariance matrix of the errors is correctly specified."
            ],
            "text/latex": "\\begin{center}\n\\begin{tabular}{lclc}\n\\toprule\n\\textbf{Dep. Variable:}    &  Sorting\\_Time   & \\textbf{  R-squared:         } &     0.682   \\\\\n\\textbf{Model:}            &       OLS        & \\textbf{  Adj. R-squared:    } &     0.666   \\\\\n\\textbf{Method:}           &  Least Squares   & \\textbf{  F-statistic:       } &     40.80   \\\\\n\\textbf{Date:}             & Thu, 12 Oct 2023 & \\textbf{  Prob (F-statistic):} &  3.98e-06   \\\\\n\\textbf{Time:}             &     18:22:37     & \\textbf{  Log-Likelihood:    } &   -36.839   \\\\\n\\textbf{No. Observations:} &          21      & \\textbf{  AIC:               } &     77.68   \\\\\n\\textbf{Df Residuals:}     &          19      & \\textbf{  BIC:               } &     79.77   \\\\\n\\textbf{Df Model:}         &           1      & \\textbf{                     } &             \\\\\n\\textbf{Covariance Type:}  &    nonrobust     & \\textbf{                     } &             \\\\\n\\bottomrule\n\\end{tabular}\n\\begin{tabular}{lcccccc}\n                        & \\textbf{coef} & \\textbf{std err} & \\textbf{t} & \\textbf{P$> |$t$|$} & \\textbf{[0.025} & \\textbf{0.975]}  \\\\\n\\midrule\n\\textbf{Intercept}      &      -0.7567  &        1.134     &    -0.667  &         0.513        &       -3.130    &        1.617     \\\\\n\\textbf{Delivery\\_Time} &       0.4137  &        0.065     &     6.387  &         0.000        &        0.278    &        0.549     \\\\\n\\bottomrule\n\\end{tabular}\n\\begin{tabular}{lclc}\n\\textbf{Omnibus:}       &  1.409 & \\textbf{  Durbin-Watson:     } &    1.346  \\\\\n\\textbf{Prob(Omnibus):} &  0.494 & \\textbf{  Jarque-Bera (JB):  } &    0.371  \\\\\n\\textbf{Skew:}          &  0.255 & \\textbf{  Prob(JB):          } &    0.831  \\\\\n\\textbf{Kurtosis:}      &  3.405 & \\textbf{  Cond. No.          } &     62.1  \\\\\n\\bottomrule\n\\end{tabular}\n%\\caption{OLS Regression Results}\n\\end{center}\n\nNotes: \\newline\n [1] Standard Errors assume that the covariance matrix of the errors is correctly specified."
          },
          "metadata": {},
          "execution_count": 120
        }
      ]
    },
    {
      "cell_type": "code",
      "source": [
        "pred=model.predict(df[\"Delivery_Time\"])"
      ],
      "metadata": {
        "id": "lDkLR0fzgKO4"
      },
      "execution_count": 121,
      "outputs": []
    },
    {
      "cell_type": "code",
      "source": [
        "model.resid"
      ],
      "metadata": {
        "colab": {
          "base_uri": "https://localhost:8080/"
        },
        "id": "_p2IpP6XgKW0",
        "outputId": "bfa33056-b7ce-42cd-c84e-e9c889ed2378"
      },
      "execution_count": 122,
      "outputs": [
        {
          "output_type": "execute_result",
          "data": {
            "text/plain": [
              "0     2.068057\n",
              "1    -0.828866\n",
              "2    -1.414763\n",
              "3    -0.173174\n",
              "4    -1.241892\n",
              "5     0.405709\n",
              "6    -0.104456\n",
              "7    -0.173891\n",
              "8     3.350662\n",
              "9     1.998980\n",
              "10    0.552137\n",
              "11    0.308929\n",
              "12    0.855430\n",
              "13   -1.001378\n",
              "14   -1.220662\n",
              "15   -1.399832\n",
              "16    1.067698\n",
              "17    0.263776\n",
              "18   -0.553276\n",
              "19    0.379624\n",
              "20   -3.138815\n",
              "dtype: float64"
            ]
          },
          "metadata": {},
          "execution_count": 122
        }
      ]
    },
    {
      "cell_type": "code",
      "source": [
        "rmse=np.sqrt(np.mean((np.array(df[\"Sorting_Time\"])-np.array(pred))**2))\n",
        "rmse"
      ],
      "metadata": {
        "colab": {
          "base_uri": "https://localhost:8080/"
        },
        "id": "oF4fTc1dgKc9",
        "outputId": "fb673111-55a6-4cd0-ad6b-aa8d660e14eb"
      },
      "execution_count": 123,
      "outputs": [
        {
          "output_type": "execute_result",
          "data": {
            "text/plain": [
              "1.398343056795723"
            ]
          },
          "metadata": {},
          "execution_count": 123
        }
      ]
    },
    {
      "cell_type": "code",
      "source": [
        "sns.scatterplot(x=\"Delivery_Time\",y=\"Sorting_Time\",data=df,color=\"red\")\n",
        "sns.scatterplot(x=\"Delivery_Time\",y=pred,data=df)"
      ],
      "metadata": {
        "id": "bVTwv1G3gKgW",
        "colab": {
          "base_uri": "https://localhost:8080/",
          "height": 467
        },
        "outputId": "2e9ba17f-de66-4389-a758-569ba2458a41"
      },
      "execution_count": 124,
      "outputs": [
        {
          "output_type": "execute_result",
          "data": {
            "text/plain": [
              "<Axes: xlabel='Delivery_Time', ylabel='Sorting_Time'>"
            ]
          },
          "metadata": {},
          "execution_count": 124
        },
        {
          "output_type": "display_data",
          "data": {
            "text/plain": [
              "<Figure size 640x480 with 1 Axes>"
            ],
            "image/png": "[encoded data removed]"
          },
          "metadata": {}
        }
      ]
    },
    {
      "cell_type": "code",
      "source": [
        "sns.scatterplot(x=\"Delivery_Time\",y=\"Sorting_Time\",data=df,color=\"red\")\n",
        "sns.lineplot(x=\"Delivery_Time\",y=pred,data=df)"
      ],
      "metadata": {
        "id": "ADOJZRSlgKmE",
        "colab": {
          "base_uri": "https://localhost:8080/",
          "height": 467
        },
        "outputId": "23c692df-8e4c-4727-af64-b67828b68de8"
      },
      "execution_count": 125,
      "outputs": [
        {
          "output_type": "execute_result",
          "data": {
            "text/plain": [
              "<Axes: xlabel='Delivery_Time', ylabel='Sorting_Time'>"
            ]
          },
          "metadata": {},
          "execution_count": 125
        },
        {
          "output_type": "display_data",
          "data": {
            "text/plain": [
              "<Figure size 640x480 with 1 Axes>"
            ],
            "image/png": "[encoded data removed]"
          },
          "metadata": {}
        }
      ]
    },
    {
      "cell_type": "code",
      "source": [
        "model2=smf.ols(\"np.log(Sorting_Time)~Delivery_Time\",data=df).fit()\n",
        "model2.summary()"
      ],
      "metadata": {
        "colab": {
          "base_uri": "https://localhost:8080/",
          "height": 444
        },
        "id": "zUAqPr_7YOkm",
        "outputId": "44464f54-2687-427c-d449-fb335e28add1"
      },
      "execution_count": 126,
      "outputs": [
        {
          "output_type": "execute_result",
          "data": {
            "text/plain": [
              "<class 'statsmodels.iolib.summary.Summary'>\n",
              "\"\"\"\n",
              "                             OLS Regression Results                             \n",
              "================================================================================\n",
              "Dep. Variable:     np.log(Sorting_Time)   R-squared:                       0.695\n",
              "Model:                              OLS   Adj. R-squared:                  0.679\n",
              "Method:                   Least Squares   F-statistic:                     43.39\n",
              "Date:                  Thu, 12 Oct 2023   Prob (F-statistic):           2.64e-06\n",
              "Time:                          18:22:37   Log-Likelihood:               -0.85600\n",
              "No. Observations:                    21   AIC:                             5.712\n",
              "Df Residuals:                        19   BIC:                             7.801\n",
              "Df Model:                             1                                         \n",
              "Covariance Type:              nonrobust                                         \n",
              "=================================================================================\n",
              "                    coef    std err          t      P>|t|      [0.025      0.975]\n",
              "---------------------------------------------------------------------------------\n",
              "Intercept         0.4372      0.204      2.139      0.046       0.009       0.865\n",
              "Delivery_Time     0.0769      0.012      6.587      0.000       0.052       0.101\n",
              "==============================================================================\n",
              "Omnibus:                        0.744   Durbin-Watson:                   1.691\n",
              "Prob(Omnibus):                  0.689   Jarque-Bera (JB):                0.686\n",
              "Skew:                          -0.101   Prob(JB):                        0.710\n",
              "Kurtosis:                       2.138   Cond. No.                         62.1\n",
              "==============================================================================\n",
              "\n",
              "Notes:\n",
              "[1] Standard Errors assume that the covariance matrix of the errors is correctly specified.\n",
              "\"\"\""
            ],
            "text/html": [
              "<table class=\"simpletable\">\n",
              "<caption>OLS Regression Results</caption>\n",
              "<tr>\n",
              "  <th>Dep. Variable:</th>    <td>np.log(Sorting_Time)</td> <th>  R-squared:         </th> <td>   0.695</td>\n",
              "</tr>\n",
              "<tr>\n",
              "  <th>Model:</th>                     <td>OLS</td>         <th>  Adj. R-squared:    </th> <td>   0.679</td>\n",
              "</tr>\n",
              "<tr>\n",
              "  <th>Method:</th>               <td>Least Squares</td>    <th>  F-statistic:       </th> <td>   43.39</td>\n",
              "</tr>\n",
              "<tr>\n",
              "  <th>Date:</th>               <td>Thu, 12 Oct 2023</td>   <th>  Prob (F-statistic):</th> <td>2.64e-06</td>\n",
              "</tr>\n",
              "<tr>\n",
              "  <th>Time:</th>                   <td>18:22:37</td>       <th>  Log-Likelihood:    </th> <td>-0.85600</td>\n",
              "</tr>\n",
              "<tr>\n",
              "  <th>No. Observations:</th>        <td>    21</td>        <th>  AIC:               </th> <td>   5.712</td>\n",
              "</tr>\n",
              "<tr>\n",
              "  <th>Df Residuals:</th>            <td>    19</td>        <th>  BIC:               </th> <td>   7.801</td>\n",
              "</tr>\n",
              "<tr>\n",
              "  <th>Df Model:</th>                <td>     1</td>        <th>                     </th>     <td> </td>   \n",
              "</tr>\n",
              "<tr>\n",
              "  <th>Covariance Type:</th>        <td>nonrobust</td>      <th>                     </th>     <td> </td>   \n",
              "</tr>\n",
              "</table>\n",
              "<table class=\"simpletable\">\n",
              "<tr>\n",
              "        <td></td>           <th>coef</th>     <th>std err</th>      <th>t</th>      <th>P>|t|</th>  <th>[0.025</th>    <th>0.975]</th>  \n",
              "</tr>\n",
              "<tr>\n",
              "  <th>Intercept</th>     <td>    0.4372</td> <td>    0.204</td> <td>    2.139</td> <td> 0.046</td> <td>    0.009</td> <td>    0.865</td>\n",
              "</tr>\n",
              "<tr>\n",
              "  <th>Delivery_Time</th> <td>    0.0769</td> <td>    0.012</td> <td>    6.587</td> <td> 0.000</td> <td>    0.052</td> <td>    0.101</td>\n",
              "</tr>\n",
              "</table>\n",
              "<table class=\"simpletable\">\n",
              "<tr>\n",
              "  <th>Omnibus:</th>       <td> 0.744</td> <th>  Durbin-Watson:     </th> <td>   1.691</td>\n",
              "</tr>\n",
              "<tr>\n",
              "  <th>Prob(Omnibus):</th> <td> 0.689</td> <th>  Jarque-Bera (JB):  </th> <td>   0.686</td>\n",
              "</tr>\n",
              "<tr>\n",
              "  <th>Skew:</th>          <td>-0.101</td> <th>  Prob(JB):          </th> <td>   0.710</td>\n",
              "</tr>\n",
              "<tr>\n",
              "  <th>Kurtosis:</th>      <td> 2.138</td> <th>  Cond. No.          </th> <td>    62.1</td>\n",
              "</tr>\n",
              "</table><br/><br/>Notes:<br/>[1] Standard Errors assume that the covariance matrix of the errors is correctly specified."
            ],
            "text/latex": "\\begin{center}\n\\begin{tabular}{lclc}\n\\toprule\n\\textbf{Dep. Variable:}    & np.log(Sorting\\_Time) & \\textbf{  R-squared:         } &     0.695   \\\\\n\\textbf{Model:}            &          OLS          & \\textbf{  Adj. R-squared:    } &     0.679   \\\\\n\\textbf{Method:}           &     Least Squares     & \\textbf{  F-statistic:       } &     43.39   \\\\\n\\textbf{Date:}             &    Thu, 12 Oct 2023   & \\textbf{  Prob (F-statistic):} &  2.64e-06   \\\\\n\\textbf{Time:}             &        18:22:37       & \\textbf{  Log-Likelihood:    } &  -0.85600   \\\\\n\\textbf{No. Observations:} &             21        & \\textbf{  AIC:               } &     5.712   \\\\\n\\textbf{Df Residuals:}     &             19        & \\textbf{  BIC:               } &     7.801   \\\\\n\\textbf{Df Model:}         &              1        & \\textbf{                     } &             \\\\\n\\textbf{Covariance Type:}  &       nonrobust       & \\textbf{                     } &             \\\\\n\\bottomrule\n\\end{tabular}\n\\begin{tabular}{lcccccc}\n                        & \\textbf{coef} & \\textbf{std err} & \\textbf{t} & \\textbf{P$> |$t$|$} & \\textbf{[0.025} & \\textbf{0.975]}  \\\\\n\\midrule\n\\textbf{Intercept}      &       0.4372  &        0.204     &     2.139  &         0.046        &        0.009    &        0.865     \\\\\n\\textbf{Delivery\\_Time} &       0.0769  &        0.012     &     6.587  &         0.000        &        0.052    &        0.101     \\\\\n\\bottomrule\n\\end{tabular}\n\\begin{tabular}{lclc}\n\\textbf{Omnibus:}       &  0.744 & \\textbf{  Durbin-Watson:     } &    1.691  \\\\\n\\textbf{Prob(Omnibus):} &  0.689 & \\textbf{  Jarque-Bera (JB):  } &    0.686  \\\\\n\\textbf{Skew:}          & -0.101 & \\textbf{  Prob(JB):          } &    0.710  \\\\\n\\textbf{Kurtosis:}      &  2.138 & \\textbf{  Cond. No.          } &     62.1  \\\\\n\\bottomrule\n\\end{tabular}\n%\\caption{OLS Regression Results}\n\\end{center}\n\nNotes: \\newline\n [1] Standard Errors assume that the covariance matrix of the errors is correctly specified."
          },
          "metadata": {},
          "execution_count": 126
        }
      ]
    },
    {
      "cell_type": "code",
      "source": [
        "pred2=model2.predict(df[\"Delivery_Time\"])\n",
        "pred2"
      ],
      "metadata": {
        "colab": {
          "base_uri": "https://localhost:8080/"
        },
        "id": "TVsQ1wyBYOuu",
        "outputId": "ef61a245-92a7-40aa-bf12-1ca2f09660fe"
      },
      "execution_count": 127,
      "outputs": [
        {
          "output_type": "execute_result",
          "data": {
            "text/plain": [
              "0     2.052148\n",
              "1     1.475394\n",
              "2     1.956022\n",
              "3     2.282850\n",
              "4     2.667352\n",
              "5     1.617660\n",
              "6     1.898347\n",
              "7     1.167792\n",
              "8     1.813756\n",
              "9     1.879122\n",
              "10    1.962174\n",
              "11    1.263917\n",
              "12    1.719938\n",
              "13    1.321593\n",
              "14    1.362350\n",
              "15    1.581517\n",
              "16    1.494619\n",
              "17    1.829905\n",
              "18    1.052441\n",
              "19    1.808373\n",
              "20    2.090598\n",
              "dtype: float64"
            ]
          },
          "metadata": {},
          "execution_count": 127
        }
      ]
    },
    {
      "cell_type": "code",
      "source": [
        "pred2=np.exp(pred2)\n",
        "pred2"
      ],
      "metadata": {
        "colab": {
          "base_uri": "https://localhost:8080/"
        },
        "id": "XqQ92oOZYOxp",
        "outputId": "ad617580-7427-4745-bf0d-c679f071330b"
      },
      "execution_count": 128,
      "outputs": [
        {
          "output_type": "execute_result",
          "data": {
            "text/plain": [
              "0      7.784605\n",
              "1      4.372758\n",
              "2      7.071145\n",
              "3      9.804581\n",
              "4     14.401789\n",
              "5      5.041280\n",
              "6      6.674852\n",
              "7      3.214886\n",
              "8      6.133444\n",
              "9      6.547752\n",
              "10     7.114781\n",
              "11     3.539259\n",
              "12     5.584181\n",
              "13     3.749389\n",
              "14     3.905361\n",
              "15     4.862325\n",
              "16     4.457638\n",
              "17     6.233298\n",
              "18     2.864635\n",
              "19     6.100516\n",
              "20     8.089754\n",
              "dtype: float64"
            ]
          },
          "metadata": {},
          "execution_count": 128
        }
      ]
    },
    {
      "cell_type": "code",
      "source": [
        "rmse2=np.sqrt(np.mean((np.array(df[\"Sorting_Time\"])-np.array(pred2))**2))\n",
        "rmse2"
      ],
      "metadata": {
        "colab": {
          "base_uri": "https://localhost:8080/"
        },
        "id": "ZHnhQ3rQYO0J",
        "outputId": "5d76bba5-f220-4a1c-be1f-beaec339456a"
      },
      "execution_count": 129,
      "outputs": [
        {
          "output_type": "execute_result",
          "data": {
            "text/plain": [
              "1.79214500168698"
            ]
          },
          "metadata": {},
          "execution_count": 129
        }
      ]
    },
    {
      "cell_type": "code",
      "source": [
        "sns.scatterplot(x=\"Delivery_Time\",y=\"Sorting_Time\",data=df,color=\"red\")\n",
        "sns.lineplot(x=\"Delivery_Time\",y=pred2,data=df)"
      ],
      "metadata": {
        "colab": {
          "base_uri": "https://localhost:8080/",
          "height": 467
        },
        "id": "nLfh3aYsYO2d",
        "outputId": "fd75ff4b-1015-4c6b-af8f-d460c2fb78e8"
      },
      "execution_count": 130,
      "outputs": [
        {
          "output_type": "execute_result",
          "data": {
            "text/plain": [
              "<Axes: xlabel='Delivery_Time', ylabel='Sorting_Time'>"
            ]
          },
          "metadata": {},
          "execution_count": 130
        },
        {
          "output_type": "display_data",
          "data": {
            "text/plain": [
              "<Figure size 640x480 with 1 Axes>"
            ],
            "image/png": "[encoded data removed]"
          },
          "metadata": {}
        }
      ]
    },
    {
      "cell_type": "code",
      "source": [
        "df[\"Delivery_Time_sq\"]=df[\"Delivery_Time\"]*df[\"Delivery_Time\"]\n",
        "df.head()"
      ],
      "metadata": {
        "colab": {
          "base_uri": "https://localhost:8080/",
          "height": 206
        },
        "id": "FvY-cGw9YO53",
        "outputId": "8b9c2133-cd82-4cc2-da23-d759944439aa"
      },
      "execution_count": 131,
      "outputs": [
        {
          "output_type": "execute_result",
          "data": {
            "text/plain": [
              "   Delivery_Time  Sorting_Time  Delivery_Time_sq\n",
              "0          21.00            10          441.0000\n",
              "1          13.50             4          182.2500\n",
              "2          19.75             6          390.0625\n",
              "3          24.00             9          576.0000\n",
              "4          29.00            10          841.0000"
            ],
            "text/html": [
              "\n",
              "  <div id=\"df-48701c48-3ec9-4628-bd6a-a39e5c6559c3\" class=\"colab-df-container\">\n",
              "    <div>\n",
              "<style scoped>\n",
              "    .dataframe tbody tr th:only-of-type {\n",
              "        vertical-align: middle;\n",
              "    }\n",
              "\n",
              "    .dataframe tbody tr th {\n",
              "        vertical-align: top;\n",
              "    }\n",
              "\n",
              "    .dataframe thead th {\n",
              "        text-align: right;\n",
              "    }\n",
              "</style>\n",
              "<table border=\"1\" class=\"dataframe\">\n",
              "  <thead>\n",
              "    <tr style=\"text-align: right;\">\n",
              "      <th></th>\n",
              "      <th>Delivery_Time</th>\n",
              "      <th>Sorting_Time</th>\n",
              "      <th>Delivery_Time_sq</th>\n",
              "    </tr>\n",
              "  </thead>\n",
              "  <tbody>\n",
              "    <tr>\n",
              "      <th>0</th>\n",
              "      <td>21.00</td>\n",
              "      <td>10</td>\n",
              "      <td>441.0000</td>\n",
              "    </tr>\n",
              "    <tr>\n",
              "      <th>1</th>\n",
              "      <td>13.50</td>\n",
              "      <td>4</td>\n",
              "      <td>182.2500</td>\n",
              "    </tr>\n",
              "    <tr>\n",
              "      <th>2</th>\n",
              "      <td>19.75</td>\n",
              "      <td>6</td>\n",
              "      <td>390.0625</td>\n",
              "    </tr>\n",
              "    <tr>\n",
              "      <th>3</th>\n",
              "      <td>24.00</td>\n",
              "      <td>9</td>\n",
              "      <td>576.0000</td>\n",
              "    </tr>\n",
              "    <tr>\n",
              "      <th>4</th>\n",
              "      <td>29.00</td>\n",
              "      <td>10</td>\n",
              "      <td>841.0000</td>\n",
              "    </tr>\n",
              "  </tbody>\n",
              "</table>\n",
              "</div>\n",
              "    <div class=\"colab-df-buttons\">\n",
              "\n",
              "  <div class=\"colab-df-container\">\n",
              "    <button class=\"colab-df-convert\" onclick=\"convertToInteractive('df-48701c48-3ec9-4628-bd6a-a39e5c6559c3')\"\n",
              "            title=\"Convert this dataframe to an interactive table.\"\n",
              "            style=\"display:none;\">\n",
              "\n",
              "  <svg xmlns=\"http://www.w3.org/2000/svg\" height=\"24px\" viewBox=\"0 -960 960 960\">\n",
              "    <path d=\"M120-120v-720h720v720H120Zm60-500h600v-160H180v160Zm220 220h160v-160H400v160Zm0 220h160v-160H400v160ZM180-400h160v-160H180v160Zm440 0h160v-160H620v160ZM180-180h160v-160H180v160Zm440 0h160v-160H620v160Z\"/>\n",
              "  </svg>\n",
              "    </button>\n",
              "\n",
              "  <style>\n",
              "    .colab-df-container {\n",
              "      display:flex;\n",
              "      gap: 12px;\n",
              "    }\n",
              "\n",
              "    .colab-df-convert {\n",
              "      background-color: #E8F0FE;\n",
              "      border: none;\n",
              "      border-radius: 50%;\n",
              "      cursor: pointer;\n",
              "      display: none;\n",
              "      fill: #1967D2;\n",
              "      height: 32px;\n",
              "      padding: 0 0 0 0;\n",
              "      width: 32px;\n",
              "    }\n",
              "\n",
              "    .colab-df-convert:hover {\n",
              "      background-color: #E2EBFA;\n",
              "      box-shadow: 0px 1px 2px rgba(60, 64, 67, 0.3), 0px 1px 3px 1px rgba(60, 64, 67, 0.15);\n",
              "      fill: #174EA6;\n",
              "    }\n",
              "\n",
              "    .colab-df-buttons div {\n",
              "      margin-bottom: 4px;\n",
              "    }\n",
              "\n",
              "    [theme=dark] .colab-df-convert {\n",
              "      background-color: #3B4455;\n",
              "      fill: #D2E3FC;\n",
              "    }\n",
              "\n",
              "    [theme=dark] .colab-df-convert:hover {\n",
              "      background-color: #434B5C;\n",
              "      box-shadow: 0px 1px 3px 1px rgba(0, 0, 0, 0.15);\n",
              "      filter: drop-shadow(0px 1px 2px rgba(0, 0, 0, 0.3));\n",
              "      fill: #FFFFFF;\n",
              "    }\n",
              "  </style>\n",
              "\n",
              "    <script>\n",
              "      const buttonEl =\n",
              "        document.querySelector('#df-48701c48-3ec9-4628-bd6a-a39e5c6559c3 button.colab-df-convert');\n",
              "      buttonEl.style.display =\n",
              "        google.colab.kernel.accessAllowed ? 'block' : 'none';\n",
              "\n",
              "      async function convertToInteractive(key) {\n",
              "        const element = document.querySelector('#df-48701c48-3ec9-4628-bd6a-a39e5c6559c3');\n",
              "        const dataTable =\n",
              "          await google.colab.kernel.invokeFunction('convertToInteractive',\n",
              "                                                    [key], {});\n",
              "        if (!dataTable) return;\n",
              "\n",
              "        const docLinkHtml = 'Like what you see? Visit the ' +\n",
              "          '<a target=\"_blank\" href=https://colab.research.google.com/notebooks/data_table.ipynb>data table notebook</a>'\n",
              "          + ' to learn more about interactive tables.';\n",
              "        element.innerHTML = '';\n",
              "        dataTable['output_type'] = 'display_data';\n",
              "        await google.colab.output.renderOutput(dataTable, element);\n",
              "        const docLink = document.createElement('div');\n",
              "        docLink.innerHTML = docLinkHtml;\n",
              "        element.appendChild(docLink);\n",
              "      }\n",
              "    </script>\n",
              "  </div>\n",
              "\n",
              "\n",
              "<div id=\"df-d07cf766-4204-4df6-b779-c9e11243fb9c\">\n",
              "  <button class=\"colab-df-quickchart\" onclick=\"quickchart('df-d07cf766-4204-4df6-b779-c9e11243fb9c')\"\n",
              "            title=\"Suggest charts.\"\n",
              "            style=\"display:none;\">\n",
              "\n",
              "<svg xmlns=\"http://www.w3.org/2000/svg\" height=\"24px\"viewBox=\"0 0 24 24\"\n",
              "     width=\"24px\">\n",
              "    <g>\n",
              "        <path d=\"M19 3H5c-1.1 0-2 .9-2 2v14c0 1.1.9 2 2 2h14c1.1 0 2-.9 2-2V5c0-1.1-.9-2-2-2zM9 17H7v-7h2v7zm4 0h-2V7h2v10zm4 0h-2v-4h2v4z\"/>\n",
              "    </g>\n",
              "</svg>\n",
              "  </button>\n",
              "\n",
              "<style>\n",
              "  .colab-df-quickchart {\n",
              "      --bg-color: #E8F0FE;\n",
              "      --fill-color: #1967D2;\n",
              "      --hover-bg-color: #E2EBFA;\n",
              "      --hover-fill-color: #174EA6;\n",
              "      --disabled-fill-color: #AAA;\n",
              "      --disabled-bg-color: #DDD;\n",
              "  }\n",
              "\n",
              "  [theme=dark] .colab-df-quickchart {\n",
              "      --bg-color: #3B4455;\n",
              "      --fill-color: #D2E3FC;\n",
              "      --hover-bg-color: #434B5C;\n",
              "      --hover-fill-color: #FFFFFF;\n",
              "      --disabled-bg-color: #3B4455;\n",
              "      --disabled-fill-color: #666;\n",
              "  }\n",
              "\n",
              "  .colab-df-quickchart {\n",
              "    background-color: var(--bg-color);\n",
              "    border: none;\n",
              "    border-radius: 50%;\n",
              "    cursor: pointer;\n",
              "    display: none;\n",
              "    fill: var(--fill-color);\n",
              "    height: 32px;\n",
              "    padding: 0;\n",
              "    width: 32px;\n",
              "  }\n",
              "\n",
              "  .colab-df-quickchart:hover {\n",
              "    background-color: var(--hover-bg-color);\n",
              "    box-shadow: 0 1px 2px rgba(60, 64, 67, 0.3), 0 1px 3px 1px rgba(60, 64, 67, 0.15);\n",
              "    fill: var(--button-hover-fill-color);\n",
              "  }\n",
              "\n",
              "  .colab-df-quickchart-complete:disabled,\n",
              "  .colab-df-quickchart-complete:disabled:hover {\n",
              "    background-color: var(--disabled-bg-color);\n",
              "    fill: var(--disabled-fill-color);\n",
              "    box-shadow: none;\n",
              "  }\n",
              "\n",
              "  .colab-df-spinner {\n",
              "    border: 2px solid var(--fill-color);\n",
              "    border-color: transparent;\n",
              "    border-bottom-color: var(--fill-color);\n",
              "    animation:\n",
              "      spin 1s steps(1) infinite;\n",
              "  }\n",
              "\n",
              "  @keyframes spin {\n",
              "    0% {\n",
              "      border-color: transparent;\n",
              "      border-bottom-color: var(--fill-color);\n",
              "      border-left-color: var(--fill-color);\n",
              "    }\n",
              "    20% {\n",
              "      border-color: transparent;\n",
              "      border-left-color: var(--fill-color);\n",
              "      border-top-color: var(--fill-color);\n",
              "    }\n",
              "    30% {\n",
              "      border-color: transparent;\n",
              "      border-left-color: var(--fill-color);\n",
              "      border-top-color: var(--fill-color);\n",
              "      border-right-color: var(--fill-color);\n",
              "    }\n",
              "    40% {\n",
              "      border-color: transparent;\n",
              "      border-right-color: var(--fill-color);\n",
              "      border-top-color: var(--fill-color);\n",
              "    }\n",
              "    60% {\n",
              "      border-color: transparent;\n",
              "      border-right-color: var(--fill-color);\n",
              "    }\n",
              "    80% {\n",
              "      border-color: transparent;\n",
              "      border-right-color: var(--fill-color);\n",
              "      border-bottom-color: var(--fill-color);\n",
              "    }\n",
              "    90% {\n",
              "      border-color: transparent;\n",
              "      border-bottom-color: var(--fill-color);\n",
              "    }\n",
              "  }\n",
              "</style>\n",
              "\n",
              "  <script>\n",
              "    async function quickchart(key) {\n",
              "      const quickchartButtonEl =\n",
              "        document.querySelector('#' + key + ' button');\n",
              "      quickchartButtonEl.disabled = true;  // To prevent multiple clicks.\n",
              "      quickchartButtonEl.classList.add('colab-df-spinner');\n",
              "      try {\n",
              "        const charts = await google.colab.kernel.invokeFunction(\n",
              "            'suggestCharts', [key], {});\n",
              "      } catch (error) {\n",
              "        console.error('Error during call to suggestCharts:', error);\n",
              "      }\n",
              "      quickchartButtonEl.classList.remove('colab-df-spinner');\n",
              "      quickchartButtonEl.classList.add('colab-df-quickchart-complete');\n",
              "    }\n",
              "    (() => {\n",
              "      let quickchartButtonEl =\n",
              "        document.querySelector('#df-d07cf766-4204-4df6-b779-c9e11243fb9c button');\n",
              "      quickchartButtonEl.style.display =\n",
              "        google.colab.kernel.accessAllowed ? 'block' : 'none';\n",
              "    })();\n",
              "  </script>\n",
              "</div>\n",
              "    </div>\n",
              "  </div>\n"
            ]
          },
          "metadata": {},
          "execution_count": 131
        }
      ]
    },
    {
      "cell_type": "code",
      "source": [
        "model3=smf.ols(\"np.log(Sorting_Time)~Delivery_Time+Delivery_Time_sq\",data=df).fit()\n",
        "model3.summary()"
      ],
      "metadata": {
        "colab": {
          "base_uri": "https://localhost:8080/",
          "height": 499
        },
        "id": "oCc_2amEbXbV",
        "outputId": "3bc37b4d-7698-436f-f05f-58fae4771e83"
      },
      "execution_count": 132,
      "outputs": [
        {
          "output_type": "execute_result",
          "data": {
            "text/plain": [
              "<class 'statsmodels.iolib.summary.Summary'>\n",
              "\"\"\"\n",
              "                             OLS Regression Results                             \n",
              "================================================================================\n",
              "Dep. Variable:     np.log(Sorting_Time)   R-squared:                       0.794\n",
              "Model:                              OLS   Adj. R-squared:                  0.771\n",
              "Method:                   Least Squares   F-statistic:                     34.62\n",
              "Date:                  Thu, 12 Oct 2023   Prob (F-statistic):           6.77e-07\n",
              "Time:                          18:22:38   Log-Likelihood:                 3.2337\n",
              "No. Observations:                    21   AIC:                           -0.4673\n",
              "Df Residuals:                        18   BIC:                             2.666\n",
              "Df Model:                             2                                         \n",
              "Covariance Type:              nonrobust                                         \n",
              "====================================================================================\n",
              "                       coef    std err          t      P>|t|      [0.025      0.975]\n",
              "------------------------------------------------------------------------------------\n",
              "Intercept           -0.7780      0.450     -1.730      0.101      -1.723       0.167\n",
              "Delivery_Time        0.2272      0.052      4.346      0.000       0.117       0.337\n",
              "Delivery_Time_sq    -0.0043      0.001     -2.928      0.009      -0.007      -0.001\n",
              "==============================================================================\n",
              "Omnibus:                        1.853   Durbin-Watson:                   1.280\n",
              "Prob(Omnibus):                  0.396   Jarque-Bera (JB):                0.957\n",
              "Skew:                          -0.521   Prob(JB):                        0.620\n",
              "Kurtosis:                       3.100   Cond. No.                     3.28e+03\n",
              "==============================================================================\n",
              "\n",
              "Notes:\n",
              "[1] Standard Errors assume that the covariance matrix of the errors is correctly specified.\n",
              "[2] The condition number is large, 3.28e+03. This might indicate that there are\n",
              "strong multicollinearity or other numerical problems.\n",
              "\"\"\""
            ],
            "text/html": [
              "<table class=\"simpletable\">\n",
              "<caption>OLS Regression Results</caption>\n",
              "<tr>\n",
              "  <th>Dep. Variable:</th>    <td>np.log(Sorting_Time)</td> <th>  R-squared:         </th> <td>   0.794</td>\n",
              "</tr>\n",
              "<tr>\n",
              "  <th>Model:</th>                     <td>OLS</td>         <th>  Adj. R-squared:    </th> <td>   0.771</td>\n",
              "</tr>\n",
              "<tr>\n",
              "  <th>Method:</th>               <td>Least Squares</td>    <th>  F-statistic:       </th> <td>   34.62</td>\n",
              "</tr>\n",
              "<tr>\n",
              "  <th>Date:</th>               <td>Thu, 12 Oct 2023</td>   <th>  Prob (F-statistic):</th> <td>6.77e-07</td>\n",
              "</tr>\n",
              "<tr>\n",
              "  <th>Time:</th>                   <td>18:22:38</td>       <th>  Log-Likelihood:    </th> <td>  3.2337</td>\n",
              "</tr>\n",
              "<tr>\n",
              "  <th>No. Observations:</th>        <td>    21</td>        <th>  AIC:               </th> <td> -0.4673</td>\n",
              "</tr>\n",
              "<tr>\n",
              "  <th>Df Residuals:</th>            <td>    18</td>        <th>  BIC:               </th> <td>   2.666</td>\n",
              "</tr>\n",
              "<tr>\n",
              "  <th>Df Model:</th>                <td>     2</td>        <th>                     </th>     <td> </td>   \n",
              "</tr>\n",
              "<tr>\n",
              "  <th>Covariance Type:</th>        <td>nonrobust</td>      <th>                     </th>     <td> </td>   \n",
              "</tr>\n",
              "</table>\n",
              "<table class=\"simpletable\">\n",
              "<tr>\n",
              "          <td></td>            <th>coef</th>     <th>std err</th>      <th>t</th>      <th>P>|t|</th>  <th>[0.025</th>    <th>0.975]</th>  \n",
              "</tr>\n",
              "<tr>\n",
              "  <th>Intercept</th>        <td>   -0.7780</td> <td>    0.450</td> <td>   -1.730</td> <td> 0.101</td> <td>   -1.723</td> <td>    0.167</td>\n",
              "</tr>\n",
              "<tr>\n",
              "  <th>Delivery_Time</th>    <td>    0.2272</td> <td>    0.052</td> <td>    4.346</td> <td> 0.000</td> <td>    0.117</td> <td>    0.337</td>\n",
              "</tr>\n",
              "<tr>\n",
              "  <th>Delivery_Time_sq</th> <td>   -0.0043</td> <td>    0.001</td> <td>   -2.928</td> <td> 0.009</td> <td>   -0.007</td> <td>   -0.001</td>\n",
              "</tr>\n",
              "</table>\n",
              "<table class=\"simpletable\">\n",
              "<tr>\n",
              "  <th>Omnibus:</th>       <td> 1.853</td> <th>  Durbin-Watson:     </th> <td>   1.280</td>\n",
              "</tr>\n",
              "<tr>\n",
              "  <th>Prob(Omnibus):</th> <td> 0.396</td> <th>  Jarque-Bera (JB):  </th> <td>   0.957</td>\n",
              "</tr>\n",
              "<tr>\n",
              "  <th>Skew:</th>          <td>-0.521</td> <th>  Prob(JB):          </th> <td>   0.620</td>\n",
              "</tr>\n",
              "<tr>\n",
              "  <th>Kurtosis:</th>      <td> 3.100</td> <th>  Cond. No.          </th> <td>3.28e+03</td>\n",
              "</tr>\n",
              "</table><br/><br/>Notes:<br/>[1] Standard Errors assume that the covariance matrix of the errors is correctly specified.<br/>[2] The condition number is large, 3.28e+03. This might indicate that there are<br/>strong multicollinearity or other numerical problems."
            ],
            "text/latex": "\\begin{center}\n\\begin{tabular}{lclc}\n\\toprule\n\\textbf{Dep. Variable:}     & np.log(Sorting\\_Time) & \\textbf{  R-squared:         } &     0.794   \\\\\n\\textbf{Model:}             &          OLS          & \\textbf{  Adj. R-squared:    } &     0.771   \\\\\n\\textbf{Method:}            &     Least Squares     & \\textbf{  F-statistic:       } &     34.62   \\\\\n\\textbf{Date:}              &    Thu, 12 Oct 2023   & \\textbf{  Prob (F-statistic):} &  6.77e-07   \\\\\n\\textbf{Time:}              &        18:22:38       & \\textbf{  Log-Likelihood:    } &    3.2337   \\\\\n\\textbf{No. Observations:}  &             21        & \\textbf{  AIC:               } &   -0.4673   \\\\\n\\textbf{Df Residuals:}      &             18        & \\textbf{  BIC:               } &     2.666   \\\\\n\\textbf{Df Model:}          &              2        & \\textbf{                     } &             \\\\\n\\textbf{Covariance Type:}   &       nonrobust       & \\textbf{                     } &             \\\\\n\\bottomrule\n\\end{tabular}\n\\begin{tabular}{lcccccc}\n                            & \\textbf{coef} & \\textbf{std err} & \\textbf{t} & \\textbf{P$> |$t$|$} & \\textbf{[0.025} & \\textbf{0.975]}  \\\\\n\\midrule\n\\textbf{Intercept}          &      -0.7780  &        0.450     &    -1.730  &         0.101        &       -1.723    &        0.167     \\\\\n\\textbf{Delivery\\_Time}     &       0.2272  &        0.052     &     4.346  &         0.000        &        0.117    &        0.337     \\\\\n\\textbf{Delivery\\_Time\\_sq} &      -0.0043  &        0.001     &    -2.928  &         0.009        &       -0.007    &       -0.001     \\\\\n\\bottomrule\n\\end{tabular}\n\\begin{tabular}{lclc}\n\\textbf{Omnibus:}       &  1.853 & \\textbf{  Durbin-Watson:     } &    1.280  \\\\\n\\textbf{Prob(Omnibus):} &  0.396 & \\textbf{  Jarque-Bera (JB):  } &    0.957  \\\\\n\\textbf{Skew:}          & -0.521 & \\textbf{  Prob(JB):          } &    0.620  \\\\\n\\textbf{Kurtosis:}      &  3.100 & \\textbf{  Cond. No.          } & 3.28e+03  \\\\\n\\bottomrule\n\\end{tabular}\n%\\caption{OLS Regression Results}\n\\end{center}\n\nNotes: \\newline\n [1] Standard Errors assume that the covariance matrix of the errors is correctly specified. \\newline\n [2] The condition number is large, 3.28e+03. This might indicate that there are \\newline\n strong multicollinearity or other numerical problems."
          },
          "metadata": {},
          "execution_count": 132
        }
      ]
    },
    {
      "cell_type": "code",
      "source": [
        "pred3=model3.predict(df[[\"Delivery_Time\",\"Delivery_Time_sq\"]])"
      ],
      "metadata": {
        "id": "ce5fCeyrdJtb"
      },
      "execution_count": 133,
      "outputs": []
    },
    {
      "cell_type": "code",
      "source": [
        "pred3=np.exp(pred3)\n",
        "pred3"
      ],
      "metadata": {
        "colab": {
          "base_uri": "https://localhost:8080/"
        },
        "id": "OTrPjacXbXe8",
        "outputId": "234da925-7652-477f-9fc8-37ea70252c4e"
      },
      "execution_count": 134,
      "outputs": [
        {
          "output_type": "execute_result",
          "data": {
            "text/plain": [
              "0     8.250905\n",
              "1     4.531944\n",
              "2     7.720077\n",
              "3     9.165723\n",
              "4     9.206382\n",
              "5     5.493602\n",
              "6     7.370749\n",
              "7     2.705128\n",
              "8     6.827202\n",
              "9     7.250110\n",
              "10    7.756102\n",
              "11    3.225473\n",
              "12    6.195767\n",
              "13    3.561679\n",
              "14    3.809137\n",
              "15    5.245998\n",
              "16    4.659292\n",
              "17    6.933311\n",
              "18    2.152041\n",
              "19    6.791625\n",
              "20    8.441717\n",
              "dtype: float64"
            ]
          },
          "metadata": {},
          "execution_count": 134
        }
      ]
    },
    {
      "cell_type": "code",
      "source": [
        "rmse3=np.sqrt(np.mean((np.array(df[\"Delivery_Time\"])-np.array(pred3))**2))\n",
        "rmse3"
      ],
      "metadata": {
        "colab": {
          "base_uri": "https://localhost:8080/"
        },
        "id": "zG6XasJpbXl7",
        "outputId": "ac4488c2-6724-4ff4-bd03-98dcbd90f1dd"
      },
      "execution_count": 135,
      "outputs": [
        {
          "output_type": "execute_result",
          "data": {
            "text/plain": [
              "11.13294734192956"
            ]
          },
          "metadata": {},
          "execution_count": 135
        }
      ]
    },
    {
      "cell_type": "code",
      "source": [
        "sns.scatterplot(x=\"Delivery_Time\",y=\"Sorting_Time\",data=df,color=\"red\")\n",
        "sns.lineplot(x=\"Delivery_Time\",y=pred3,data=df)"
      ],
      "metadata": {
        "colab": {
          "base_uri": "https://localhost:8080/",
          "height": 467
        },
        "id": "raOrk5_LbXoY",
        "outputId": "2b0e19e8-5840-4b9b-bf8d-6795538eb250"
      },
      "execution_count": 136,
      "outputs": [
        {
          "output_type": "execute_result",
          "data": {
            "text/plain": [
              "<Axes: xlabel='Delivery_Time', ylabel='Sorting_Time'>"
            ]
          },
          "metadata": {},
          "execution_count": 136
        },
        {
          "output_type": "display_data",
          "data": {
            "text/plain": [
              "<Figure size 640x480 with 1 Axes>"
            ],
            "image/png": "[encoded data removed]"
          },
          "metadata": {}
        }
      ]
    },
    {
      "cell_type": "code",
      "source": [],
      "metadata": {
        "id": "HREeN93QbXr7"
      },
      "execution_count": 136,
      "outputs": []
    }
  ],
  "metadata": {
    "colab": {
      "provenance": []
    },
    "kernelspec": {
      "display_name": "Python 3",
      "name": "python3"
    },
    "language_info": {
      "name": "python"
    }
  },
  "nbformat": 4,
  "nbformat_minor": 0
}